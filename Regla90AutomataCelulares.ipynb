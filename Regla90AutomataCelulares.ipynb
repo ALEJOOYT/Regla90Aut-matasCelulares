{
 "cells": [
  {
   "cell_type": "code",
   "execution_count": 9,
   "metadata": {},
   "outputs": [],
   "source": [
    "from collections import deque"
   ]
  },
  {
   "cell_type": "code",
   "execution_count": 10,
   "metadata": {},
   "outputs": [],
   "source": [
    "def AplicarRegla90(estadoInicial, pasos):\n",
    "    longitud = len(estadoInicial)\n",
    "    matrizEvolucion = [estadoInicial[:]]\n",
    "    estadoActual = deque(estadoInicial)\n",
    "    for i in range(pasos):\n",
    "        nuevoEstado = [0] * longitud\n",
    "        for j in range(longitud):\n",
    "            izquierda = estadoActual[j - 1]\n",
    "            derecha = estadoActual[(j + 1) % longitud]\n",
    "            nuevoEstado[j] = (izquierda + derecha) % 2\n",
    "        estadoActual = deque(nuevoEstado)\n",
    "        matrizEvolucion.append(nuevoEstado[:])\n",
    "    return matrizEvolucion"
   ]
  },
  {
   "cell_type": "code",
   "execution_count": 11,
   "metadata": {},
   "outputs": [],
   "source": [
    "def SolicitarEstadoInicial():\n",
    "    print(\"Ingrese el estado inicial de las celdas (solo 0 y 1) separados por comas.\")\n",
    "    print(\"Ejemplo: 0,0,1,0,0,1,0\")\n",
    "    while True:\n",
    "        entrada = input(\"Estado inicial: \").strip()\n",
    "        try:\n",
    "            estadoInicial = [int(valor.strip()) for valor in entrada.split(\",\")]\n",
    "            if len(estadoInicial) < 3:\n",
    "                raise ValueError(\"El estado inicial debe tener al menos 3 celdas.\")\n",
    "            if not all(valor in (0, 1) for valor in estadoInicial):\n",
    "                raise ValueError(\"Solo se permiten los valores 0 y 1.\")\n",
    "            return estadoInicial\n",
    "        except ValueError as ve:\n",
    "            print(\"Error:\", ve)\n",
    "        except Exception:\n",
    "            print(\"Error: Entrada no válida. Intente nuevamente.\")"
   ]
  },
  {
   "cell_type": "code",
   "execution_count": 12,
   "metadata": {},
   "outputs": [],
   "source": [
    "def SolicitarPasos():\n",
    "    while True:\n",
    "        entrada = input(\"Ingrese la cantidad de pasos a simular: \").strip()\n",
    "        try:\n",
    "            pasos = int(entrada)\n",
    "            if pasos < 1:\n",
    "                raise ValueError(\"El número de pasos debe ser al menos 1.\")\n",
    "            return pasos\n",
    "        except ValueError as ve:\n",
    "            print(\"Error:\", ve)\n",
    "        except Exception:\n",
    "            print(\"Error: Entrada no válida. Intente nuevamente.\")"
   ]
  },
  {
   "cell_type": "code",
   "execution_count": 13,
   "metadata": {},
   "outputs": [],
   "source": [
    "def ImprimirInterfazBonita(resultado):\n",
    "    print(\"\\n\" + \"=\" * 40)\n",
    "    print(\"   Simulación de la Regla 90 en Autómatas Celulares\")\n",
    "    print(\"=\" * 40 + \"\\n\")\n",
    "    print(\"Evolución del estado:\")\n",
    "    for fila in resultado:\n",
    "        print(\"  \" + \" \".join(map(str, fila)))\n",
    "    print(\"\\n\" + \"=\" * 40)\n",
    "    print(\"¡Gracias por utilizar la simulación!\")\n",
    "    print(\"=\" * 40 + \"\\n\")"
   ]
  },
  {
   "cell_type": "code",
   "execution_count": 14,
   "metadata": {},
   "outputs": [],
   "source": [
    "def main():\n",
    "    print(\"=\" * 50)\n",
    "    print(\" Bienvenido a la Simulación de la Regla 90\")\n",
    "    print(\"=\" * 50 + \"\\n\")\n",
    "\n",
    "    estadoInicial = SolicitarEstadoInicial()\n",
    "    pasos = SolicitarPasos()\n",
    "\n",
    "    resultado = AplicarRegla90(estadoInicial, pasos)\n",
    "    ImprimirInterfazBonita(resultado)"
   ]
  },
  {
   "cell_type": "code",
   "execution_count": 15,
   "metadata": {},
   "outputs": [
    {
     "name": "stdout",
     "output_type": "stream",
     "text": [
      "==================================================\n",
      " Bienvenido a la Simulación de la Regla 90\n",
      "==================================================\n",
      "\n",
      "Ingrese el estado inicial de las celdas (solo 0 y 1) separados por comas.\n",
      "Ejemplo: 0,0,1,0,0,1,0\n",
      "\n",
      "========================================\n",
      "   Simulación de la Regla 90 en Autómatas Celulares\n",
      "========================================\n",
      "\n",
      "Evolución del estado:\n",
      "  0 0 0 1 0 0 0\n",
      "  0 0 1 0 1 0 0\n",
      "  0 1 0 0 0 1 0\n",
      "  1 0 1 0 1 0 1\n",
      "  1 0 0 0 0 0 1\n",
      "  1 1 0 0 0 1 1\n",
      "\n",
      "========================================\n",
      "¡Gracias por utilizar la simulación!\n",
      "========================================\n",
      "\n"
     ]
    }
   ],
   "source": [
    "if __name__ == \"__main__\":\n",
    "    main()"
   ]
  }
 ],
 "metadata": {
  "kernelspec": {
   "display_name": "usr",
   "language": "python",
   "name": "python3"
  },
  "language_info": {
   "codemirror_mode": {
    "name": "ipython",
    "version": 3
   },
   "file_extension": ".py",
   "mimetype": "text/x-python",
   "name": "python",
   "nbconvert_exporter": "python",
   "pygments_lexer": "ipython3",
   "version": "3.13.2"
  }
 },
 "nbformat": 4,
 "nbformat_minor": 2
}
